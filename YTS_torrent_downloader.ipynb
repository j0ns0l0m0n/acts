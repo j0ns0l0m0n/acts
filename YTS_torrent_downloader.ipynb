{
  "nbformat": 4,
  "nbformat_minor": 0,
  "metadata": {
    "colab": {
      "provenance": [],
      "authorship_tag": "ABX9TyNPdFUZTpqZZi1frcIazU/E",
      "include_colab_link": true
    },
    "kernelspec": {
      "name": "python3",
      "display_name": "Python 3"
    },
    "language_info": {
      "name": "python"
    }
  },
  "cells": [
    {
      "cell_type": "markdown",
      "metadata": {
        "id": "view-in-github",
        "colab_type": "text"
      },
      "source": [
        "<a href=\"https://colab.research.google.com/github/j0ns0l0m0n/acts/blob/master/YTS_torrent_downloader.ipynb\" target=\"_parent\"><img src=\"https://colab.research.google.com/assets/colab-badge.svg\" alt=\"Open In Colab\"/></a>"
      ]
    },
    {
      "cell_type": "code",
      "execution_count": 72,
      "metadata": {
        "id": "9rPhph3wqnIw"
      },
      "outputs": [],
      "source": [
        "#@title Default title text\n",
        "import requests\n",
        "\n",
        "title = \"john wick\"\n",
        "payload = {'query_term': title, 'limit': '50'}\n",
        "url = \"https://yts.mx/api/v2/list_movies.json\"\n",
        "\n",
        "response = requests.get(url, params=payload).json()\n"
      ]
    },
    {
      "cell_type": "code",
      "source": [
        "response"
      ],
      "metadata": {
        "id": "t6T9pKFLuYbM"
      },
      "execution_count": null,
      "outputs": []
    },
    {
      "cell_type": "code",
      "source": [
        "for movie in response['data']['movies']:\n",
        "  print(movie['title_long'])\n",
        "  url = \"\"\n",
        "  for torrent in movie['torrents']:\n",
        "    if torrent['quality'] == '2016p':\n",
        "      if torrent['type'] == 'bluray':\n",
        "        url = torrent['url']\n",
        "        break\n",
        "      else:\n",
        "        url = torrent['url']\n",
        "        \n",
        "  print(\"  \" + torrent['quality'] + \" : \" + torrent['type'] + \" : \" + url)\n",
        "  "
      ],
      "metadata": {
        "colab": {
          "base_uri": "https://localhost:8080/"
        },
        "id": "xfncT1EgsT97",
        "outputId": "917328e5-93f3-44bb-9db3-07f0d6de320d"
      },
      "execution_count": 73,
      "outputs": [
        {
          "output_type": "stream",
          "name": "stdout",
          "text": [
            "John Wick: Chapter 4 (2023)\n",
            "  2160p : web : \n",
            "John Wick: Chapter 3 - Parabellum (2019)\n",
            "  1080p : web : \n",
            "John Wick: Chapter 2 (2017)\n",
            "  2160p : bluray : \n",
            "John Wick (2014)\n",
            "  2160p : bluray : \n"
          ]
        }
      ]
    },
    {
      "cell_type": "code",
      "source": [],
      "metadata": {
        "id": "ufU0Y3i9uV96"
      },
      "execution_count": null,
      "outputs": []
    }
  ]
}